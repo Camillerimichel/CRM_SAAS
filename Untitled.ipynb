{
 "cells": [
  {
   "cell_type": "code",
   "execution_count": 1,
   "id": "5fe79895-42db-48fe-b69f-ab6ee01477ae",
   "metadata": {},
   "outputs": [
    {
     "ename": "ModuleNotFoundError",
     "evalue": "No module named 'query_tool'",
     "output_type": "error",
     "traceback": [
      "\u001b[31m---------------------------------------------------------------------------\u001b[39m",
      "\u001b[31mModuleNotFoundError\u001b[39m                       Traceback (most recent call last)",
      "\u001b[36mCell\u001b[39m\u001b[36m \u001b[39m\u001b[32mIn[1]\u001b[39m\u001b[32m, line 1\u001b[39m\n\u001b[32m----> \u001b[39m\u001b[32m1\u001b[39m \u001b[38;5;28;01mfrom\u001b[39;00m\u001b[38;5;250m \u001b[39m\u001b[34;01mquery_tool\u001b[39;00m\u001b[38;5;250m \u001b[39m\u001b[38;5;28;01mimport\u001b[39;00m run_query\n",
      "\u001b[31mModuleNotFoundError\u001b[39m: No module named 'query_tool'"
     ]
    }
   ],
   "source": [
    "from query_tool import run_query"
   ]
  },
  {
   "cell_type": "code",
   "execution_count": 2,
   "id": "d5769358-a9dc-4a7c-a412-49bb608194d6",
   "metadata": {},
   "outputs": [
    {
     "ename": "ModuleNotFoundError",
     "evalue": "No module named 'query_tool'",
     "output_type": "error",
     "traceback": [
      "\u001b[31m---------------------------------------------------------------------------\u001b[39m",
      "\u001b[31mModuleNotFoundError\u001b[39m                       Traceback (most recent call last)",
      "\u001b[36mCell\u001b[39m\u001b[36m \u001b[39m\u001b[32mIn[2]\u001b[39m\u001b[32m, line 4\u001b[39m\n\u001b[32m      1\u001b[39m \u001b[38;5;28;01mimport\u001b[39;00m\u001b[38;5;250m \u001b[39m\u001b[34;01msys\u001b[39;00m\n\u001b[32m      2\u001b[39m sys.path.append(\u001b[33m\"\u001b[39m\u001b[33m../src\u001b[39m\u001b[33m\"\u001b[39m)  \u001b[38;5;66;03m# permet de trouver query_tool.py\u001b[39;00m\n\u001b[32m----> \u001b[39m\u001b[32m4\u001b[39m \u001b[38;5;28;01mfrom\u001b[39;00m\u001b[38;5;250m \u001b[39m\u001b[34;01mquery_tool\u001b[39;00m\u001b[38;5;250m \u001b[39m\u001b[38;5;28;01mimport\u001b[39;00m run_query\n",
      "\u001b[31mModuleNotFoundError\u001b[39m: No module named 'query_tool'"
     ]
    }
   ],
   "source": [
    "import sys\n",
    "sys.path.append(\"../src\")  # permet de trouver query_tool.py\n",
    "\n",
    "from query_tool import run_query\n"
   ]
  },
  {
   "cell_type": "code",
   "execution_count": 3,
   "id": "ebe27da7-b711-49a8-a254-4e7fadb65652",
   "metadata": {},
   "outputs": [
    {
     "ename": "ModuleNotFoundError",
     "evalue": "No module named 'query_tool'",
     "output_type": "error",
     "traceback": [
      "\u001b[31m---------------------------------------------------------------------------\u001b[39m",
      "\u001b[31mModuleNotFoundError\u001b[39m                       Traceback (most recent call last)",
      "\u001b[36mCell\u001b[39m\u001b[36m \u001b[39m\u001b[32mIn[3]\u001b[39m\u001b[32m, line 4\u001b[39m\n\u001b[32m      1\u001b[39m \u001b[38;5;28;01mimport\u001b[39;00m\u001b[38;5;250m \u001b[39m\u001b[34;01msys\u001b[39;00m\n\u001b[32m      2\u001b[39m sys.path.append(\u001b[33m\"\u001b[39m\u001b[33m../src\u001b[39m\u001b[33m\"\u001b[39m)  \u001b[38;5;66;03m# permet de trouver query_tool.py\u001b[39;00m\n\u001b[32m----> \u001b[39m\u001b[32m4\u001b[39m \u001b[38;5;28;01mfrom\u001b[39;00m\u001b[38;5;250m \u001b[39m\u001b[34;01mquery_tool\u001b[39;00m\u001b[38;5;250m \u001b[39m\u001b[38;5;28;01mimport\u001b[39;00m run_query\n",
      "\u001b[31mModuleNotFoundError\u001b[39m: No module named 'query_tool'"
     ]
    }
   ],
   "source": [
    "import sys\n",
    "sys.path.append(\"../src\")  # permet de trouver query_tool.py\n",
    "\n",
    "from query_tool import run_query"
   ]
  },
  {
   "cell_type": "code",
   "execution_count": 4,
   "id": "e1d92975-4951-4410-822d-eac8f6d0123e",
   "metadata": {},
   "outputs": [
    {
     "name": "stdout",
     "output_type": "stream",
     "text": [
      "\u001b[34m__pycache__\u001b[m\u001b[m/    main.py         test_app.py\n",
      "db.py           query_tool.py   test_sqlite.py\n"
     ]
    }
   ],
   "source": [
    "ls src"
   ]
  },
  {
   "cell_type": "code",
   "execution_count": 5,
   "id": "ce2c82ef-bcd7-442a-86a7-b2f2e56f7031",
   "metadata": {},
   "outputs": [
    {
     "name": "stdout",
     "output_type": "stream",
     "text": [
      "/Users/MichelCamilleri 1/Library/Mobile Documents/com~apple~CloudDocs/Optiwealth/Optiwealth/Maquettes produits/Agrégateur mode SAAS/CRM SAAS\n"
     ]
    }
   ],
   "source": [
    "import os\n",
    "print(os.getcwd())\n"
   ]
  },
  {
   "cell_type": "code",
   "execution_count": 6,
   "id": "cbb2799b-070f-4373-a5dd-1be101a4fe27",
   "metadata": {},
   "outputs": [
    {
     "ename": "ModuleNotFoundError",
     "evalue": "No module named 'query_tool'",
     "output_type": "error",
     "traceback": [
      "\u001b[31m---------------------------------------------------------------------------\u001b[39m",
      "\u001b[31mModuleNotFoundError\u001b[39m                       Traceback (most recent call last)",
      "\u001b[36mCell\u001b[39m\u001b[36m \u001b[39m\u001b[32mIn[6]\u001b[39m\u001b[32m, line 3\u001b[39m\n\u001b[32m      1\u001b[39m \u001b[38;5;28;01mimport\u001b[39;00m\u001b[38;5;250m \u001b[39m\u001b[34;01msys\u001b[39;00m\n\u001b[32m      2\u001b[39m sys.path.append(\u001b[33m\"\u001b[39m\u001b[33m../src\u001b[39m\u001b[33m\"\u001b[39m)  \u001b[38;5;66;03m# remonte d'un dossier et pointe sur src\u001b[39;00m\n\u001b[32m----> \u001b[39m\u001b[32m3\u001b[39m \u001b[38;5;28;01mfrom\u001b[39;00m\u001b[38;5;250m \u001b[39m\u001b[34;01mquery_tool\u001b[39;00m\u001b[38;5;250m \u001b[39m\u001b[38;5;28;01mimport\u001b[39;00m run_query\n",
      "\u001b[31mModuleNotFoundError\u001b[39m: No module named 'query_tool'"
     ]
    }
   ],
   "source": [
    "import sys\n",
    "sys.path.append(\"../src\")  # remonte d'un dossier et pointe sur src\n",
    "from query_tool import run_query\n"
   ]
  },
  {
   "cell_type": "code",
   "execution_count": 7,
   "id": "08256c47-f76b-4af8-977c-f27fc6837e3d",
   "metadata": {},
   "outputs": [
    {
     "name": "stdout",
     "output_type": "stream",
     "text": [
      "\u001b[H\u001b[2J"
     ]
    }
   ],
   "source": [
    "clear"
   ]
  },
  {
   "cell_type": "code",
   "execution_count": 8,
   "id": "74acb56e-051a-4fe7-9535-4e3c2a40243c",
   "metadata": {},
   "outputs": [
    {
     "ename": "ModuleNotFoundError",
     "evalue": "No module named 'query_tool'",
     "output_type": "error",
     "traceback": [
      "\u001b[31m---------------------------------------------------------------------------\u001b[39m",
      "\u001b[31mModuleNotFoundError\u001b[39m                       Traceback (most recent call last)",
      "\u001b[36mCell\u001b[39m\u001b[36m \u001b[39m\u001b[32mIn[8]\u001b[39m\u001b[32m, line 1\u001b[39m\n\u001b[32m----> \u001b[39m\u001b[32m1\u001b[39m \u001b[38;5;28;01mfrom\u001b[39;00m\u001b[38;5;250m \u001b[39m\u001b[34;01mquery_tool\u001b[39;00m\u001b[38;5;250m \u001b[39m\u001b[38;5;28;01mimport\u001b[39;00m run_query\n",
      "\u001b[31mModuleNotFoundError\u001b[39m: No module named 'query_tool'"
     ]
    }
   ],
   "source": [
    "from query_tool import run_query"
   ]
  },
  {
   "cell_type": "code",
   "execution_count": 9,
   "id": "26111931-2066-4e6c-a8a7-3aeef12e6849",
   "metadata": {},
   "outputs": [
    {
     "name": "stdout",
     "output_type": "stream",
     "text": [
      "\u001b[34mdata\u001b[m\u001b[m/             \u001b[34mnotebooks\u001b[m\u001b[m/        \u001b[34msrc\u001b[m\u001b[m/\n",
      "\u001b[34mdocs\u001b[m\u001b[m/             requirements.txt  Untitled.ipynb\n"
     ]
    }
   ],
   "source": [
    "ls"
   ]
  },
  {
   "cell_type": "code",
   "execution_count": 10,
   "id": "bf9b950e-e8de-4646-bb81-fb6fc8fc62f6",
   "metadata": {},
   "outputs": [
    {
     "name": "stdout",
     "output_type": "stream",
     "text": [
      "\u001b[34m__pycache__\u001b[m\u001b[m/    main.py         test_app.py\n",
      "db.py           query_tool.py   test_sqlite.py\n"
     ]
    }
   ],
   "source": [
    "ls src"
   ]
  },
  {
   "cell_type": "code",
   "execution_count": 11,
   "id": "3a2acc92-17c1-456c-a29f-4d6d9d18a02e",
   "metadata": {},
   "outputs": [
    {
     "name": "stdout",
     "output_type": "stream",
     "text": [
      "/Users/MichelCamilleri 1/Library/Mobile Documents/com~apple~CloudDocs/Optiwealth/Optiwealth/Maquettes produits/Agrégateur mode SAAS/CRM SAAS/src\n"
     ]
    }
   ],
   "source": [
    "cd src"
   ]
  },
  {
   "cell_type": "code",
   "execution_count": 12,
   "id": "13b51217-3418-45d2-a88b-77f8a40c5a3f",
   "metadata": {},
   "outputs": [],
   "source": [
    "from query_tool import run_query\n"
   ]
  },
  {
   "cell_type": "code",
   "execution_count": 13,
   "id": "a50e728d-6e66-4fcf-b0fb-6de3724cc56f",
   "metadata": {},
   "outputs": [
    {
     "name": "stdout",
     "output_type": "stream",
     "text": [
      "Erreur lors de l'exécution : (sqlite3.OperationalError) unable to open database file\n",
      "(Background on this error at: https://sqlalche.me/e/20/e3q8)\n"
     ]
    }
   ],
   "source": [
    "run_query(\"SELECT * FROM mariadb_clients LIMIT 5;\")\n"
   ]
  },
  {
   "cell_type": "code",
   "execution_count": 14,
   "id": "da0c5cb4-23af-410e-805b-6f3e0be09959",
   "metadata": {},
   "outputs": [
    {
     "name": "stdout",
     "output_type": "stream",
     "text": [
      "/Users/MichelCamilleri 1/Library/Mobile Documents/com~apple~CloudDocs/Optiwealth/Optiwealth/Maquettes produits/Agrégateur mode SAAS/CRM SAAS/src\n"
     ]
    }
   ],
   "source": [
    "print(os.getcwd())"
   ]
  },
  {
   "cell_type": "code",
   "execution_count": 15,
   "id": "c4d42680-405b-466c-a895-64e3390e8429",
   "metadata": {},
   "outputs": [
    {
     "data": {
      "text/plain": [
       "'/Users/MichelCamilleri 1/Library/Mobile Documents/com~apple~CloudDocs/Optiwealth/Optiwealth/Maquettes produits/Agrégateur mode SAAS/CRM SAAS/src'"
      ]
     },
     "execution_count": 15,
     "metadata": {},
     "output_type": "execute_result"
    }
   ],
   "source": [
    "pwd\n"
   ]
  },
  {
   "cell_type": "code",
   "execution_count": 16,
   "id": "f731f559-05d6-4c29-8c23-fffef61b4092",
   "metadata": {},
   "outputs": [
    {
     "name": "stdout",
     "output_type": "stream",
     "text": [
      "Erreur lors de l'exécution : (sqlite3.OperationalError) unable to open database file\n",
      "(Background on this error at: https://sqlalche.me/e/20/e3q8)\n"
     ]
    }
   ],
   "source": [
    "from query_tool import run_query\n",
    "\n",
    "run_query(\"SELECT * FROM mariadb_clients LIMIT 5;\")\n"
   ]
  },
  {
   "cell_type": "code",
   "execution_count": 17,
   "id": "0d651cc0-66c9-42b0-a298-34ea8746f5fc",
   "metadata": {},
   "outputs": [
    {
     "name": "stdout",
     "output_type": "stream",
     "text": [
      "Erreur lors de l'exécution : (sqlite3.OperationalError) unable to open database file\n",
      "(Background on this error at: https://sqlalche.me/e/20/e3q8)\n"
     ]
    }
   ],
   "source": [
    "from query_tool import run_query\n",
    "run_query(\"SELECT * FROM mariadb_clients LIMIT 5;\")\n"
   ]
  },
  {
   "cell_type": "code",
   "execution_count": null,
   "id": "461146b4-32d1-4e8f-9097-d2b5e4a87699",
   "metadata": {},
   "outputs": [],
   "source": []
  }
 ],
 "metadata": {
  "kernelspec": {
   "display_name": "Python 3 (ipykernel)",
   "language": "python",
   "name": "python3"
  },
  "language_info": {
   "codemirror_mode": {
    "name": "ipython",
    "version": 3
   },
   "file_extension": ".py",
   "mimetype": "text/x-python",
   "name": "python",
   "nbconvert_exporter": "python",
   "pygments_lexer": "ipython3",
   "version": "3.13.5"
  }
 },
 "nbformat": 4,
 "nbformat_minor": 5
}
